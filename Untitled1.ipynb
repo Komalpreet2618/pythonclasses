{
 "cells": [
  {
   "cell_type": "code",
   "execution_count": 1,
   "id": "b362b40a-fe4f-4e14-b221-fc8e7b0887ef",
   "metadata": {},
   "outputs": [],
   "source": [
    "import pandas as pd"
   ]
  },
  {
   "cell_type": "code",
   "execution_count": 7,
   "id": "083b423a-0742-4ad1-a0ff-9600c5912a44",
   "metadata": {},
   "outputs": [
    {
     "name": "stdout",
     "output_type": "stream",
     "text": [
      "hi\n",
      "bye\n"
     ]
    }
   ],
   "source": [
    "print('hi\\nbye')"
   ]
  },
  {
   "cell_type": "code",
   "execution_count": 9,
   "id": "fea5c0e8-2d54-4a4b-aae6-1345cc0358a5",
   "metadata": {},
   "outputs": [
    {
     "name": "stdout",
     "output_type": "stream",
     "text": [
      "1 \n",
      "1 2 \n",
      "1 2 3 \n",
      "1 2 3 4 \n"
     ]
    }
   ],
   "source": [
    "for i in range(0,4):  # Rows from 1 to 4\n",
    "    for j in range(1, i + 2):  # Numbers from 1 to current row number\n",
    "        print(j, end=\" \")\n",
    "    print() "
   ]
  },
  {
   "cell_type": "code",
   "execution_count": 11,
   "id": "d4bf99ca-a117-47e3-b5da-67b61f5331cc",
   "metadata": {},
   "outputs": [
    {
     "name": "stdout",
     "output_type": "stream",
     "text": [
      "['hello', 34, 5.6, True, 23, 67, 9.9]\n",
      "<class 'list'>\n",
      "67\n",
      "7\n"
     ]
    }
   ],
   "source": [
    "\n",
    "l=['hello',34,5.6,True,23,67,9.9]\n",
    "print(l)\n",
    "print(type(l))\n",
    "\n",
    "# access\n",
    "print(l[5])\n",
    "#print(l[7])\n",
    "print(len(l))"
   ]
  },
  {
   "cell_type": "code",
   "execution_count": 23,
   "id": "0af14fe8-d591-46e4-902d-04e848599400",
   "metadata": {},
   "outputs": [
    {
     "name": "stdout",
     "output_type": "stream",
     "text": [
      "[12, 34, 54, 33, 22, 34, 78]\n",
      "[12, 34, 44, 54, 33, 22, 34, 78]\n",
      "[12, 34, 44, 54, 100, 22, 34, 78]\n",
      "[12, 34, 44, 54, [1, 2, 3], 100, 22, 34, 78]\n",
      "2\n",
      "[12, 34, 44, 54, [1, 2, 3], 100, 22, 34, 78, 9, 7, 6]\n",
      "[12, 34, 44, 54, [1, 2, 3], 100, 22, 34, 78, 9, 7, 6, [3, 4, 5]]\n",
      "------------------\n",
      "------------------\n",
      "[34, 23, 10, 45, 6, 23, 10]\n",
      "[6, 10, 10, 23, 23, 34, 45]\n",
      "[6, 10, 10, 23, 34, 45]\n",
      "-------------\n",
      "[6, 10, 23, 34]\n",
      "6\n",
      "10\n",
      "23\n",
      "34\n",
      "[12, 20, 46, 68]\n"
     ]
    }
   ],
   "source": [
    "l1=[12,34,54,33,22,34,78]\n",
    "print(l1)\n",
    "l1.insert(2,44) #index, value\n",
    "print(l1)\n",
    "\n",
    "#update\n",
    "l1[4]=100\n",
    "print(l1)\n",
    "\n",
    "\n",
    "l1.insert(4,[1,2,3])\n",
    "print(l1)\n",
    "print(l1[4][1])\n",
    "\n",
    "l1.extend([9,7,6])\n",
    "print(l1)\n",
    "\n",
    "l1.append([3,4,5])\n",
    "print(l1)\n",
    "\n",
    "print(\"------------------\")\n",
    "print(\"------------------\")\n",
    "n=[34,23,10,45,6,23,10]\n",
    "print(n)\n",
    "n.sort()\n",
    "print(n)\n",
    "\n",
    "n.remove(23)  #Remove first occurence of value,Raises ValueError if the value is not present.\n",
    "print(n)\n",
    "\n",
    "print(\"-------------\")\n",
    "n.pop()\n",
    "n.pop(2) # return error if index is not present\n",
    "print(n)\n",
    "\n",
    "# n.clear()\n",
    "# print(n)\n",
    "\n",
    "# append function\n",
    "l2=[]\n",
    "\n",
    "for i in n:\n",
    "    print(i)\n",
    "    l2.append(i*2)\n",
    "\n",
    "\n",
    "print(l2)\n",
    "    "
   ]
  },
  {
   "cell_type": "code",
   "execution_count": 4,
   "id": "43c07d47-0544-4ebe-b781-6c45a1092fbb",
   "metadata": {},
   "outputs": [
    {
     "name": "stdout",
     "output_type": "stream",
     "text": [
      "[36, 89, 9, [3]]\n"
     ]
    }
   ],
   "source": [
    "l3=[36,89,9]\n",
    "l3.append([3])\n",
    "print(l3)"
   ]
  },
  {
   "cell_type": "code",
   "execution_count": 7,
   "id": "a28e14d1-25b3-4ae6-b728-b2df302cb12e",
   "metadata": {},
   "outputs": [
    {
     "name": "stdout",
     "output_type": "stream",
     "text": [
      "[0, 1, 2, 9, 4, 25, 6, 49, 8, 81, 10, 121, 12, 169, 14, 225, 16, 289, 18, 361]\n"
     ]
    }
   ],
   "source": [
    "l=[i if i%2==0 else i**2 for i in range(20)]\n",
    "print(l)"
   ]
  },
  {
   "cell_type": "code",
   "execution_count": 10,
   "id": "34c4d1bf-5b22-4e78-a337-e59666843c52",
   "metadata": {},
   "outputs": [
    {
     "name": "stdout",
     "output_type": "stream",
     "text": [
      "[3]\n"
     ]
    }
   ],
   "source": [
    "a=[1,2,3,4]\n",
    "b=[5,6,7,3]\n",
    "\n",
    "v=[i for i in a for j in b if i==j]\n",
    "print(v)\n"
   ]
  },
  {
   "cell_type": "code",
   "execution_count": 11,
   "id": "e3d87f57-40b7-471a-bc83-fd441f4a0b1e",
   "metadata": {},
   "outputs": [
    {
     "name": "stdout",
     "output_type": "stream",
     "text": [
      "(12, 34, 'hello', True, 9.9)\n",
      "<class 'tuple'>\n"
     ]
    }
   ],
   "source": [
    "a=(12,34,'hello',True,9.9)\n",
    "print(a)\n",
    "print(type(a))"
   ]
  },
  {
   "cell_type": "code",
   "execution_count": 16,
   "id": "e5b1c170-036c-4243-88f5-fdccdaaef110",
   "metadata": {},
   "outputs": [
    {
     "ename": "TypeError",
     "evalue": "'tuple' object does not support item assignment",
     "output_type": "error",
     "traceback": [
      "\u001b[31m---------------------------------------------------------------------------\u001b[39m",
      "\u001b[31mTypeError\u001b[39m                                 Traceback (most recent call last)",
      "\u001b[36mCell\u001b[39m\u001b[36m \u001b[39m\u001b[32mIn[16]\u001b[39m\u001b[32m, line 1\u001b[39m\n\u001b[32m----> \u001b[39m\u001b[32m1\u001b[39m \u001b[43ma\u001b[49m\u001b[43m[\u001b[49m\u001b[32;43m2\u001b[39;49m\u001b[43m]\u001b[49m=\u001b[32m56\u001b[39m\n\u001b[32m      2\u001b[39m \u001b[38;5;28mprint\u001b[39m(a)\n",
      "\u001b[31mTypeError\u001b[39m: 'tuple' object does not support item assignment"
     ]
    }
   ],
   "source": [
    "a[2]=56\n",
    "print(a)"
   ]
  },
  {
   "cell_type": "code",
   "execution_count": 14,
   "id": "e0ce2cc4-835e-4965-963c-411d2f2578d5",
   "metadata": {},
   "outputs": [
    {
     "name": "stdout",
     "output_type": "stream",
     "text": [
      "True\n"
     ]
    }
   ],
   "source": [
    "print(a[3])"
   ]
  },
  {
   "cell_type": "code",
   "execution_count": 17,
   "id": "ef9f6232-fef8-44ce-9a7d-a9aaffc4a7a6",
   "metadata": {},
   "outputs": [
    {
     "name": "stdout",
     "output_type": "stream",
     "text": [
      "(9.9, True, 'hello', 34, 12)\n"
     ]
    }
   ],
   "source": [
    "print(a[::-1])"
   ]
  },
  {
   "cell_type": "code",
   "execution_count": 18,
   "id": "090a9f88-6c5a-4119-a209-2d78a05596e7",
   "metadata": {},
   "outputs": [
    {
     "name": "stdout",
     "output_type": "stream",
     "text": [
      "(12, 34, 'hello', True, 9.9)\n",
      "[12, 34, 'hello', True, 9.9]\n",
      "(12, 34, 56, True, 9.9)\n",
      "2\n",
      "1\n"
     ]
    }
   ],
   "source": [
    "print(a)\n",
    "a=list(a)\n",
    "print(a)\n",
    "a[2]=56\n",
    "a=tuple(a)\n",
    "print(a)\n",
    "\n",
    "print(a.index(56))\n",
    "print(a.count(True))"
   ]
  },
  {
   "cell_type": "code",
   "execution_count": 19,
   "id": "be579465-0edc-4b62-8d82-0d35b2338649",
   "metadata": {},
   "outputs": [
    {
     "name": "stdout",
     "output_type": "stream",
     "text": [
      "<class 'list'>\n",
      "<class 'tuple'>\n"
     ]
    }
   ],
   "source": [
    "l=[12]\n",
    "print(type(l))\n",
    "k=(12,)\n",
    "print(type(k))"
   ]
  },
  {
   "cell_type": "code",
   "execution_count": 24,
   "id": "1ab88b5e-3ac8-4272-80e3-8a9696f4ec1b",
   "metadata": {},
   "outputs": [
    {
     "name": "stdout",
     "output_type": "stream",
     "text": [
      "{'hi', True, 100, 23, 'surbhi', 6.78, 45}\n",
      "--------after add\n",
      "{'hi', True, 33, 100, 23, 'surbhi', 6.78, 45}\n",
      "--------after update\n",
      "{True, 33, 99, 100, 'surbhi', 6.78, 38, 45, 'hi', 23, 88}\n",
      "----------after pop\n",
      "{33, 99, 100, 'surbhi', 6.78, 38, 45, 'hi', 23, 88}\n",
      "{99, 100, 'surbhi', 6.78, 38, 45, 'hi', 23, 88}\n",
      "{99, 'surbhi', 6.78, 38, 45, 'hi', 23, 88}\n",
      "{99, 'surbhi', 6.78, 38, 45, 'hi', 23, 88}\n"
     ]
    }
   ],
   "source": [
    "set1={23,45,True,1,'hi','surbhi',45,6.78,100}\n",
    "print(set1)\n",
    "\n",
    "print(\"--------after add\")\n",
    "set1.add(33)\n",
    "print(set1)\n",
    "\n",
    "print(\"--------after update\")\n",
    "set1.update({38,99,88})\n",
    "#set1.update([38,99,88])\n",
    "print(set1)\n",
    "\n",
    "print(\"----------after pop\")\n",
    "set1.pop()\n",
    "print(set1)\n",
    "set1.pop()\n",
    "print(set1)\n",
    "\n",
    "set1.remove(100)  # raise error if value is not present\n",
    "print(set1)\n",
    "\n",
    "set1.discard(122) #does not raise error if value is not present\n",
    "print(set1)"
   ]
  },
  {
   "cell_type": "code",
   "execution_count": null,
   "id": "1987f932-9820-496a-9984-1822936eaf15",
   "metadata": {},
   "outputs": [],
   "source": []
  }
 ],
 "metadata": {
  "kernelspec": {
   "display_name": "Python 3 (ipykernel)",
   "language": "python",
   "name": "python3"
  },
  "language_info": {
   "codemirror_mode": {
    "name": "ipython",
    "version": 3
   },
   "file_extension": ".py",
   "mimetype": "text/x-python",
   "name": "python",
   "nbconvert_exporter": "python",
   "pygments_lexer": "ipython3",
   "version": "3.12.4"
  }
 },
 "nbformat": 4,
 "nbformat_minor": 5
}
